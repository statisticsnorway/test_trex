{
 "cells": [
  {
   "cell_type": "markdown",
   "id": "6de1a6bd-49fc-4919-b5fc-46652dd75fd6",
   "metadata": {},
   "source": [
    "# Test av enkel funksjon"
   ]
  },
  {
   "cell_type": "code",
   "execution_count": 1,
   "id": "b22e6254-0545-481c-b0b2-df950a0702ec",
   "metadata": {},
   "outputs": [],
   "source": [
    "# En enkel funksjon for å skrive ut tekst\n",
    "def skriv(value):\n",
    "    print(value)"
   ]
  },
  {
   "cell_type": "code",
   "execution_count": 2,
   "id": "556834e8-8227-4cb9-8880-ca84164e7ff2",
   "metadata": {},
   "outputs": [
    {
     "name": "stdout",
     "output_type": "stream",
     "text": [
      "Fungerer dette?\n"
     ]
    }
   ],
   "source": [
    "# Test av funksjonen\n",
    "skriv('Fungerer dette?')"
   ]
  },
  {
   "cell_type": "code",
   "execution_count": null,
   "id": "f4390ecb-b3cb-4e5e-819b-a2153da18aa6",
   "metadata": {},
   "outputs": [],
   "source": []
  }
 ],
 "metadata": {
  "kernelspec": {
   "display_name": "Python3",
   "language": "python",
   "name": "python3"
  },
  "language_info": {
   "codemirror_mode": {
    "name": "ipython",
    "version": 3
   },
   "file_extension": ".py",
   "mimetype": "text/x-python",
   "name": "python",
   "nbconvert_exporter": "python",
   "pygments_lexer": "ipython3",
   "version": "3.10.8"
  }
 },
 "nbformat": 4,
 "nbformat_minor": 5
}
